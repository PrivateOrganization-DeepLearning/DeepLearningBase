{
 "cells": [
  {
   "cell_type": "code",
   "execution_count": 3,
   "metadata": {},
   "outputs": [],
   "source": [
    "import torch\n",
    "import torchvision\n",
    "import torchvision.transforms as transforms\n",
    "\n",
    "import torch.nn as nn\n",
    "import torch.nn.functional as F"
   ]
  },
  {
   "cell_type": "markdown",
   "metadata": {},
   "source": [
    "Stem 영역을 세 구간으로 나누어 선언한다"
   ]
  },
  {
   "cell_type": "code",
   "execution_count": 6,
   "metadata": {},
   "outputs": [],
   "source": [
    "class stem1(nn.Module):\n",
    "    def __init__(self):\n",
    "        self.a1 = nn.Sequential(\n",
    "            nn.Conv2d(3, 32, 3, stride = 2),\n",
    "            nn.ReLU(True),\n",
    "            nn.Conv2d(32, 32, 3, stride = 1),\n",
    "            nn.ReLU(True),\n",
    "            nn.Conv2d(32, 64, 3, stride = 1, padding = 1),\n",
    "            nn.ReLU(True),\n",
    "        )\n",
    "        self.a2 = nn.Sequential(\n",
    "            nn.Conv2d(64, 96, 3, stride = 2),\n",
    "            nn.ReLU(True),\n",
    "        )\n",
    "        self.a3 = nn.Sequential(\n",
    "            nn.MaxPool2d(3, stride = 2),\n",
    "        )\n",
    "    def forward(self,x):\n",
    "        y1 = self.a1(x)\n",
    "        out1 = self.a2(y1)\n",
    "        out2 = self.a3(y1)\n",
    "        return torch.cat([out1,out2],1)       \n",
    "        "
   ]
  },
  {
   "cell_type": "code",
   "execution_count": 7,
   "metadata": {},
   "outputs": [],
   "source": [
    "class stem2(nn.Module):\n",
    "    def __init__(self):\n",
    "        self.a1 = nn.Sequential(\n",
    "            nn.Conv2d(160, 64, 1, stride = 1),\n",
    "            nn.ReLU(True),\n",
    "            nn.Conv2d(64, 64, 7, 1, stride = 1),\n",
    "            nn.ReLU(True),\n",
    "            nn.Conv2d(64, 64, 1, 7, stride = 1),\n",
    "            nn.ReLu(True),\n",
    "            nn.Conv2d(64, 96, 3, stride = 1)\n",
    "        )\n",
    "        self.a2 = nn.Sequential(\n",
    "            nn.Conv2d(160, 64, 1, stride = 1),\n",
    "            nn.ReLU(True),\n",
    "            nn.Conv2d(64, 96, 3, stride = 1),\n",
    "            nn.ReLU(True),\n",
    "        )\n",
    "    def forward(self, x):\n",
    "        y1 = self.a1(x)\n",
    "        y2 = self.a2(x)\n",
    "        return torch.cat([y1,y2],1)"
   ]
  },
  {
   "cell_type": "code",
   "execution_count": 9,
   "metadata": {},
   "outputs": [],
   "source": [
    "class stem3(nn.Module):\n",
    "    def __init__(self):\n",
    "        self.a1 = nn.Sequential(\n",
    "            nn.Conv2d(192, 192, 3, stride = 2),\n",
    "            nn.ReLU(True),\n",
    "        )\n",
    "        self.a2 = nn.Sequential(\n",
    "            nn.MaxPool2d(3, stride = 2)\n",
    "        )\n",
    "    def forward(self,x):\n",
    "        y1 = self.a1(x)\n",
    "        y2 = self.a2(x)\n",
    "        return torch.cat([y1,y2],1)"
   ]
  },
  {
   "cell_type": "markdown",
   "metadata": {},
   "source": [
    "4 x Inception-A 영역을 선언한다"
   ]
  },
  {
   "cell_type": "code",
   "execution_count": 13,
   "metadata": {},
   "outputs": [],
   "source": [
    "class InceptionA(nn.Module):\n",
    "    def __init__(self):\n",
    "        self.a1 = nn.Sequential(\n",
    "            nn.Conv2d(384, 64, 1, stride = 1),\n",
    "            nn.ReLU(True),\n",
    "            nn.Conv2d(64, 96, 3, stride = 1),\n",
    "            nn.ReLU(True),\n",
    "            nn.Conv2d(96, 96, 3, stride = 1),\n",
    "            nn.ReLU(True),\n",
    "        )\n",
    "        self.a2 = nn.Sequential(\n",
    "            nn.Conv2d(384, 64, 1, stride = 1),\n",
    "            nn.ReLU(True),\n",
    "            nn.Conv2d(64, 96, 3, stride = 1),\n",
    "            nn.ReLU(True),\n",
    "        )\n",
    "        self.a3 = nn.Sequential(\n",
    "            nn.Conv2d(384, 96, 1, stride = 1),\n",
    "            nn.ReLU(True),\n",
    "        )\n",
    "        self.a4 = nn.Sequential(\n",
    "            nn.AvgPool2d(3, padding=1),\n",
    "            nn.Conv2d(384, 96, 1, stride = 1),\n",
    "            nn.ReLU(True),\n",
    "        )\n",
    "    def forward(self,x):\n",
    "        y1 = self.a1(x)\n",
    "        y2 = self.a2(x)\n",
    "        y3 = self.a3(x)\n",
    "        y4 = self.a4(x)\n",
    "        return torch.cat([y1,y2,y3,y4],1)"
   ]
  },
  {
   "cell_type": "markdown",
   "metadata": {},
   "source": [
    "ReductionA를 선언한다."
   ]
  },
  {
   "cell_type": "code",
   "execution_count": 17,
   "metadata": {},
   "outputs": [],
   "source": [
    "class ReductionA(nn.Module):\n",
    "    def __init__(self):\n",
    "        self.a1 = nn.Sequential(\n",
    "            nn.Conv2d(384, 192, 1, stride = 1),\n",
    "            nn.ReLU(True),\n",
    "            nn.Conv2d(192, 224, 3, stride = 1),\n",
    "            nn.ReLU(True),\n",
    "            nn.Conv2d(224, 256, 3, stride = 2),\n",
    "            nn.ReLU(True),\n",
    "        )\n",
    "        self.a2 = nn.Sequential(\n",
    "            nn.Conv2d(384, 384, 3, stride = 2),\n",
    "            nn.ReLU(True),\n",
    "        )\n",
    "        self.a3 = nn.Sequential(\n",
    "            nn.MaxPool2d(3, stride = 2),\n",
    "        )\n",
    "    \n",
    "    def forward(self, x):\n",
    "        y1 = self.a1(x)\n",
    "        y2 = self.a2(x)\n",
    "        y3 = self.a3(x)\n",
    "        return torch.cat([y1,y2,y3],1)\n",
    "        "
   ]
  },
  {
   "cell_type": "markdown",
   "metadata": {},
   "source": [
    "7 x Inception-B를 선언한다."
   ]
  },
  {
   "cell_type": "code",
   "execution_count": 20,
   "metadata": {},
   "outputs": [],
   "source": [
    "class InceptionB(nn.Module):\n",
    "    def __init__(self):\n",
    "        self.a1 = nn.Sequential(\n",
    "            nn.Conv2d(1024, 192, 1, stride = 1),\n",
    "            nn.ReLU(True),\n",
    "            nn.Conv2d(192, 192, 1, 7, stride = 1),\n",
    "            nn.ReLU(True),\n",
    "            nn.Conv2d(192, 224, 7, 1, stride = 1),\n",
    "            nn.ReLU(True),\n",
    "            nn.Conv2d(224, 224, 1, 7, stride = 1),\n",
    "            nn.ReLU(True),\n",
    "            nn.Conv2d(224, 256, 7, 1, stride = 1),\n",
    "            nn.ReLU(True),\n",
    "        )\n",
    "        self.a2 = nn.Sequential(\n",
    "            nn.Conv2d(1024, 192, 1, stride = 1),\n",
    "            nn.ReLU(True),\n",
    "            nn.Conv2d(192, 224, 1, 7, stride = 1),\n",
    "            nn.ReLU(True),\n",
    "            nn.Conv2d(224, 256, 1, 7, stride = 1),\n",
    "            nn.ReLU(True),\n",
    "        )\n",
    "        self.a3 = nn.Sequential(\n",
    "            nn.Conv2d(1024, 384, 1, stride = 1),\n",
    "            nn.ReLU(True),\n",
    "        )\n",
    "        self.a4 = nn.Sequential(\n",
    "            nn.AvgPool2d(3, stride = 2),\n",
    "            nn.Conv2d(1024, 128, 1, stride = 1),\n",
    "            nn.ReLU(True),\n",
    "        )\n",
    "    \n",
    "    def forward(self,x):\n",
    "        y1 = self.a1(x)\n",
    "        y2 = self.a2(x)\n",
    "        y3 = self.a3(x)\n",
    "        y4 = self.a4(x)\n",
    "        return torch.cat([y1,y2,y3,y4],1)\n",
    "        \n",
    "    "
   ]
  },
  {
   "cell_type": "markdown",
   "metadata": {},
   "source": [
    "ReductionB를 선언한다."
   ]
  },
  {
   "cell_type": "code",
   "execution_count": null,
   "metadata": {},
   "outputs": [],
   "source": [
    "class ReductionB(nn.Module):\n",
    "    def __init__(self):\n",
    "        self.a1 = nn.Sequential(\n",
    "            nn.Conv2d(1024, 256, 1, stride = 1),\n",
    "            nn.ReLU(True),\n",
    "            nn.Conv2d(256, 256, 1, 7, stride = 1),\n",
    "            nn.ReLU(True),\n",
    "            nn.Conv2d(256, 320, 7, 1, stride = 1),\n",
    "            nn.ReLU(True),\n",
    "            nn.Conv2d(320, 320, 3, stride = 2),\n",
    "            nn.ReLU(True),\n",
    "        )\n",
    "        self.a2 = nn.Sequential(\n",
    "            nn.Conv2d(1024, 192, 1, stride = 1),\n",
    "            nn.ReLU(True),\n",
    "            nn.Conv2d(192, 192, 3, stride = 2),\n",
    "            nn.ReLU(True),\n",
    "        )\n",
    "        self.a3 = nn.Sequential(\n",
    "            nn.MaxPool2d(3, stride = 2),\n",
    "        )\n",
    "    \n",
    "    def forward(self, x):\n",
    "        y1 = self.a1(x)\n",
    "        y2 = self.a2(x)\n",
    "        y3 = self.a3(x)\n",
    "        return torch.cat([y1,y2,y3],1)\n"
   ]
  },
  {
   "cell_type": "code",
   "execution_count": 21,
   "metadata": {},
   "outputs": [],
   "source": [
    "class Inceptionv4(nn.Module):\n",
    "    def __init__(self):\n",
    "        super(Inceptionv4,self).__init__()\n",
    "        \n",
    "        self.a1 = stem1()\n",
    "        self.a2 = stem2()\n",
    "        self.a3 = stem3()\n",
    "        self.a4 = InceptionA()\n",
    "        self.a5 = ReductionA()\n",
    "        self.a6 = InceptionB()\n",
    "        \n",
    "        \n",
    "    def forward(self,x):\n",
    "        out = self.a1(x)\n",
    "        out = self.a2(out)\n",
    "        out = self.a3(out)\n",
    "        out = self.a4(out)\n",
    "        out = self.a5(out)\n",
    "        out = self.a6(out)"
   ]
  }
 ],
 "metadata": {
  "kernelspec": {
   "display_name": "tensorflow-gpu",
   "language": "python",
   "name": "tensorflow-gpu"
  },
  "language_info": {
   "codemirror_mode": {
    "name": "ipython",
    "version": 3
   },
   "file_extension": ".py",
   "mimetype": "text/x-python",
   "name": "python",
   "nbconvert_exporter": "python",
   "pygments_lexer": "ipython3",
   "version": "3.5.2"
  }
 },
 "nbformat": 4,
 "nbformat_minor": 2
}

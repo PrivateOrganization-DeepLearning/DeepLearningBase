{
 "cells": [
  {
   "cell_type": "code",
   "execution_count": 1,
   "metadata": {},
   "outputs": [],
   "source": [
    "import torch\n",
    "import torchvision\n",
    "import torchvision.transforms as transforms\n",
    "\n",
    "import torch.nn as nn\n",
    "import torch.nn.functional as F"
   ]
  },
  {
   "cell_type": "markdown",
   "metadata": {},
   "source": [
    "Stem 영역을 세 구간으로 나누어 선언한다"
   ]
  },
  {
   "cell_type": "code",
   "execution_count": 2,
   "metadata": {},
   "outputs": [],
   "source": [
    "class stem1(nn.Module):\n",
    "    def __init__(self):\n",
    "        super(stem1, self).__init__()\n",
    "        self.a1 = nn.Sequential(\n",
    "            nn.Conv2d(3, 32, 3, stride = 2),\n",
    "            nn.ReLU(True),\n",
    "            nn.Conv2d(32, 32, 3, stride = 1),\n",
    "            nn.ReLU(True),\n",
    "            nn.Conv2d(32, 64, 3, stride = 1, padding = 1),\n",
    "            nn.ReLU(True),\n",
    "        )\n",
    "        self.a2 = nn.Sequential(\n",
    "            nn.Conv2d(64, 96, 3, stride = 2),\n",
    "            nn.ReLU(True),\n",
    "        )\n",
    "        self.a3 = nn.Sequential(\n",
    "            nn.MaxPool2d(3, stride = 2),\n",
    "        )\n",
    "    def forward(self,x):\n",
    "        y1 = self.a1(x)\n",
    "        out1 = self.a2(y1)\n",
    "        out2 = self.a3(y1)\n",
    "        return torch.cat([out1,out2],1)       \n",
    "        "
   ]
  },
  {
   "cell_type": "code",
   "execution_count": 31,
   "metadata": {},
   "outputs": [],
   "source": [
    "class stem2(nn.Module):\n",
    "    def __init__(self):\n",
    "        super(stem2, self).__init__()\n",
    "        self.a1 = nn.Sequential(\n",
    "            nn.Conv2d(160, 64, 1, stride = 1),\n",
    "            nn.ReLU(True),\n",
    "            nn.Conv2d(64, 64, (7, 1), stride = 1,padding=(3,0)),\n",
    "            nn.ReLU(True),\n",
    "            nn.Conv2d(64, 64, (1, 7), stride = 1,padding=(0,3)),\n",
    "            nn.ReLU(True),\n",
    "            nn.Conv2d(64, 96, 3, stride = 1),\n",
    "            nn.ReLU(True)\n",
    "        )\n",
    "        self.a2 = nn.Sequential(\n",
    "            nn.Conv2d(160, 64, 1, stride = 1),\n",
    "            nn.ReLU(True),\n",
    "            nn.Conv2d(64, 96, 3, stride = 1),\n",
    "            nn.ReLU(True),\n",
    "        )\n",
    "    def forward(self, x):\n",
    "        y1 = self.a1(x)\n",
    "        y2 = self.a2(x)\n",
    "        return torch.cat([y1,y2],1)"
   ]
  },
  {
   "cell_type": "code",
   "execution_count": 4,
   "metadata": {},
   "outputs": [],
   "source": [
    "class stem3(nn.Module):\n",
    "    def __init__(self):\n",
    "        super(stem3, self).__init__()\n",
    "        self.a1 = nn.Sequential(\n",
    "            nn.Conv2d(192, 192, 3, stride = 2),\n",
    "            nn.ReLU(True),\n",
    "        )\n",
    "        self.a2 = nn.Sequential(\n",
    "            nn.MaxPool2d(3, stride = 2)\n",
    "        )\n",
    "    def forward(self,x):\n",
    "        y1 = self.a1(x)\n",
    "        y2 = self.a2(x)\n",
    "        return torch.cat([y1,y2],1)"
   ]
  },
  {
   "cell_type": "markdown",
   "metadata": {},
   "source": [
    "4 x Inception-A 영역을 선언한다"
   ]
  },
  {
   "cell_type": "code",
   "execution_count": 35,
   "metadata": {},
   "outputs": [],
   "source": [
    "class InceptionA(nn.Module):\n",
    "    def __init__(self):\n",
    "        super(InceptionA, self).__init__()\n",
    "        self.a1 = nn.Sequential(\n",
    "            nn.Conv2d(384, 64, 1, stride = 1),\n",
    "            nn.ReLU(True),\n",
    "            nn.Conv2d(64, 96, 3, stride = 1, padding=1),\n",
    "            nn.ReLU(True),\n",
    "            nn.Conv2d(96, 96, 3, stride = 1, padding=1),\n",
    "            nn.ReLU(True),\n",
    "        )\n",
    "        self.a2 = nn.Sequential(\n",
    "            nn.Conv2d(384, 64, 1, stride = 1),\n",
    "            nn.ReLU(True),\n",
    "            nn.Conv2d(64, 96, 3, stride = 1, padding=1),\n",
    "            nn.ReLU(True),\n",
    "        )\n",
    "        self.a3 = nn.Sequential(\n",
    "            nn.Conv2d(384, 96, 1, stride = 1),\n",
    "            nn.ReLU(True),\n",
    "        )\n",
    "        self.a4 = nn.Sequential(\n",
    "            nn.AvgPool2d(3, stride = 1, padding=1),\n",
    "            nn.Conv2d(384, 96, 1, stride = 1),\n",
    "            nn.ReLU(True),\n",
    "        )\n",
    "    def forward(self,x):\n",
    "        y1 = self.a1(x)\n",
    "        y2 = self.a2(x)\n",
    "        y3 = self.a3(x)\n",
    "        y4 = self.a4(x)\n",
    "        return torch.cat([y1,y2,y3,y4],1)"
   ]
  },
  {
   "cell_type": "markdown",
   "metadata": {},
   "source": [
    "ReductionA를 선언한다."
   ]
  },
  {
   "cell_type": "code",
   "execution_count": 38,
   "metadata": {},
   "outputs": [],
   "source": [
    "class ReductionA(nn.Module):\n",
    "    def __init__(self):\n",
    "        super(ReductionA, self).__init__()\n",
    "        self.a1 = nn.Sequential(\n",
    "            nn.Conv2d(384, 192, 1, stride = 1),\n",
    "            nn.ReLU(True),\n",
    "            nn.Conv2d(192, 224, 3, stride = 1, padding=1),\n",
    "            nn.ReLU(True),\n",
    "            nn.Conv2d(224, 256, 3, stride = 2),\n",
    "            nn.ReLU(True),\n",
    "        )\n",
    "        self.a2 = nn.Sequential(\n",
    "            nn.Conv2d(384, 384, 3, stride = 2),\n",
    "            nn.ReLU(True),\n",
    "        )\n",
    "        self.a3 = nn.Sequential(\n",
    "            nn.MaxPool2d(3, stride = 2),\n",
    "        )\n",
    "    \n",
    "    def forward(self, x):\n",
    "        y1 = self.a1(x)\n",
    "        y2 = self.a2(x)\n",
    "        y3 = self.a3(x)\n",
    "        return torch.cat([y1,y2,y3],1)\n",
    "        "
   ]
  },
  {
   "cell_type": "markdown",
   "metadata": {},
   "source": [
    "7 x Inception-B를 선언한다."
   ]
  },
  {
   "cell_type": "code",
   "execution_count": 41,
   "metadata": {},
   "outputs": [],
   "source": [
    "class InceptionB(nn.Module):\n",
    "    def __init__(self):\n",
    "        super(InceptionB, self).__init__()\n",
    "        self.a1 = nn.Sequential(\n",
    "            nn.Conv2d(1024, 192, 1, stride = 1),\n",
    "            nn.ReLU(True),\n",
    "            nn.Conv2d(192, 192, (1, 7), stride = 1, padding=(0,3)),\n",
    "            nn.ReLU(True),\n",
    "            nn.Conv2d(192, 224, (7, 1), stride = 1, padding=(3,0)),\n",
    "            nn.ReLU(True),\n",
    "            nn.Conv2d(224, 224, (1, 7), stride = 1, padding=(0,3)),\n",
    "            nn.ReLU(True),\n",
    "            nn.Conv2d(224, 256, (7, 1), stride = 1, padding=(3,0)),\n",
    "            nn.ReLU(True),\n",
    "        )\n",
    "        self.a2 = nn.Sequential(\n",
    "            nn.Conv2d(1024, 192, 1, stride = 1),\n",
    "            nn.ReLU(True),\n",
    "            nn.Conv2d(192, 224, (1, 7), stride = 1, padding=(0,3)),\n",
    "            nn.ReLU(True),\n",
    "            nn.Conv2d(224, 256, (1, 7), stride = 1, padding=(0,3)),\n",
    "            nn.ReLU(True),\n",
    "        )\n",
    "        self.a3 = nn.Sequential(\n",
    "            nn.Conv2d(1024, 384, 1, stride = 1),\n",
    "            nn.ReLU(True),\n",
    "        )\n",
    "        self.a4 = nn.Sequential(\n",
    "            nn.AvgPool2d(3, stride = 1, padding = 1),\n",
    "            nn.Conv2d(1024, 128, 1, stride = 1),\n",
    "            nn.ReLU(True),\n",
    "        )\n",
    "    \n",
    "    def forward(self,x):\n",
    "        y1 = self.a1(x)\n",
    "        y2 = self.a2(x)\n",
    "        y3 = self.a3(x)\n",
    "        y4 = self.a4(x)\n",
    "        return torch.cat([y1,y2,y3,y4],1)\n",
    "        \n",
    "    "
   ]
  },
  {
   "cell_type": "markdown",
   "metadata": {},
   "source": [
    "ReductionB를 선언한다."
   ]
  },
  {
   "cell_type": "code",
   "execution_count": 44,
   "metadata": {},
   "outputs": [],
   "source": [
    "class ReductionB(nn.Module):\n",
    "    def __init__(self):\n",
    "        super(ReductionB, self).__init__()\n",
    "        self.a1 = nn.Sequential(\n",
    "            nn.Conv2d(1024, 256, 1, stride = 1),\n",
    "            nn.ReLU(True),\n",
    "            nn.Conv2d(256, 256, (1, 7), stride = 1, padding=(0,3)),\n",
    "            nn.ReLU(True),\n",
    "            nn.Conv2d(256, 320, (7, 1), stride = 1, padding=(3,0)),\n",
    "            nn.ReLU(True),\n",
    "            nn.Conv2d(320, 320, 3, stride = 2),\n",
    "            nn.ReLU(True),\n",
    "        )\n",
    "        self.a2 = nn.Sequential(\n",
    "            nn.Conv2d(1024, 192, 1, stride = 1),\n",
    "            nn.ReLU(True),\n",
    "            nn.Conv2d(192, 192, 3, stride = 2),\n",
    "            nn.ReLU(True),\n",
    "        )\n",
    "        self.a3 = nn.Sequential(\n",
    "            nn.MaxPool2d(3, stride = 2),\n",
    "        )\n",
    "    \n",
    "    def forward(self, x):\n",
    "        y1 = self.a1(x)\n",
    "        y2 = self.a2(x)\n",
    "        y3 = self.a3(x)\n",
    "        return torch.cat([y1,y2,y3],1)\n"
   ]
  },
  {
   "cell_type": "markdown",
   "metadata": {},
   "source": [
    "3 x Inception-C를 선언한다."
   ]
  },
  {
   "cell_type": "code",
   "execution_count": 51,
   "metadata": {},
   "outputs": [],
   "source": [
    "class InceptionC(nn.Module):\n",
    "    def __init__(self):\n",
    "        super(InceptionC, self).__init__()\n",
    "        self.a1 = nn.Sequential(\n",
    "            nn.Conv2d(1536, 384, 1, stride = 1),\n",
    "            nn.ReLU(True),\n",
    "            nn.Conv2d(384, 448, (1, 3), stride = 1, padding=(0,1)),\n",
    "            nn.ReLU(True),\n",
    "            nn.Conv2d(448, 512, (3, 1), stride = 1, padding=(1,0)),\n",
    "            nn.ReLU(True),\n",
    "        )\n",
    "        self.a2 = nn.Sequential(\n",
    "            nn.Conv2d(512, 256, (1, 3), stride = 1, padding=(0,1)),\n",
    "            nn.ReLU(True),\n",
    "        )\n",
    "        self.a3 = nn.Sequential(\n",
    "            nn.Conv2d(512, 256, (3, 1), stride = 1, padding=(1,0)),\n",
    "            nn.ReLU(True),\n",
    "        )\n",
    "        self.b1 = nn.Sequential(\n",
    "            nn.Conv2d(1536, 384, 1, stride = 1),\n",
    "            nn.ReLU(True),\n",
    "        )\n",
    "        self.b2 = nn.Sequential(\n",
    "            nn.Conv2d(384, 256, (3, 1), stride = 1, padding=(1,0)),\n",
    "            nn.ReLU(True),\n",
    "        )\n",
    "        self.b3 = nn.Sequential(\n",
    "            nn.Conv2d(384, 256, (1, 3), stride = 1, padding=(0,1)),\n",
    "            nn.ReLU(True),\n",
    "        )\n",
    "        self.c1 = nn.Sequential(\n",
    "            nn.Conv2d(1536, 256, 1, stride = 1),\n",
    "            nn.ReLU(True),\n",
    "        )\n",
    "        self.d1 = nn.Sequential(\n",
    "            nn.AvgPool2d(3,stride = 1, padding = 1),\n",
    "            nn.Conv2d(1536, 256, 1, stride = 1),\n",
    "            nn.ReLU(True),\n",
    "        )\n",
    "        \n",
    "        \n",
    "        \n",
    "    def forward(self, x):\n",
    "        m = self.a1(x)\n",
    "        y1 = self.a2(m)\n",
    "        y2 = self.a3(m)\n",
    "        n = self.b1(x)\n",
    "        y3 = self.b2(n)\n",
    "        y4 = self.b3(n)\n",
    "        y5 = self.c1(x)\n",
    "        y6 = self.d1(x)\n",
    "        return torch.cat([y1,y2,y3,y4,y5,y6],1)      \n"
   ]
  },
  {
   "cell_type": "code",
   "execution_count": 52,
   "metadata": {
    "scrolled": true
   },
   "outputs": [
    {
     "name": "stdout",
     "output_type": "stream",
     "text": [
      "98\n",
      "torch.Size([32, 3, 3, 3])\n",
      "torch.Size([32])\n",
      "torch.Size([32, 32, 3, 3])\n",
      "torch.Size([32])\n",
      "torch.Size([64, 32, 3, 3])\n",
      "torch.Size([64])\n",
      "torch.Size([96, 64, 3, 3])\n",
      "torch.Size([96])\n",
      "torch.Size([64, 160, 1, 1])\n",
      "torch.Size([64])\n",
      "torch.Size([64, 64, 7, 1])\n",
      "torch.Size([64])\n",
      "torch.Size([64, 64, 1, 7])\n",
      "torch.Size([64])\n",
      "torch.Size([96, 64, 3, 3])\n",
      "torch.Size([96])\n",
      "torch.Size([64, 160, 1, 1])\n",
      "torch.Size([64])\n",
      "torch.Size([96, 64, 3, 3])\n",
      "torch.Size([96])\n",
      "torch.Size([192, 192, 3, 3])\n",
      "torch.Size([192])\n",
      "torch.Size([64, 384, 1, 1])\n",
      "torch.Size([64])\n",
      "torch.Size([96, 64, 3, 3])\n",
      "torch.Size([96])\n",
      "torch.Size([96, 96, 3, 3])\n",
      "torch.Size([96])\n",
      "torch.Size([64, 384, 1, 1])\n",
      "torch.Size([64])\n",
      "torch.Size([96, 64, 3, 3])\n",
      "torch.Size([96])\n",
      "torch.Size([96, 384, 1, 1])\n",
      "torch.Size([96])\n",
      "torch.Size([96, 384, 1, 1])\n",
      "torch.Size([96])\n",
      "torch.Size([192, 384, 1, 1])\n",
      "torch.Size([192])\n",
      "torch.Size([224, 192, 3, 3])\n",
      "torch.Size([224])\n",
      "torch.Size([256, 224, 3, 3])\n",
      "torch.Size([256])\n",
      "torch.Size([384, 384, 3, 3])\n",
      "torch.Size([384])\n",
      "torch.Size([192, 1024, 1, 1])\n",
      "torch.Size([192])\n",
      "torch.Size([192, 192, 1, 7])\n",
      "torch.Size([192])\n",
      "torch.Size([224, 192, 7, 1])\n",
      "torch.Size([224])\n",
      "torch.Size([224, 224, 1, 7])\n",
      "torch.Size([224])\n",
      "torch.Size([256, 224, 7, 1])\n",
      "torch.Size([256])\n",
      "torch.Size([192, 1024, 1, 1])\n",
      "torch.Size([192])\n",
      "torch.Size([224, 192, 1, 7])\n",
      "torch.Size([224])\n",
      "torch.Size([256, 224, 1, 7])\n",
      "torch.Size([256])\n",
      "torch.Size([384, 1024, 1, 1])\n",
      "torch.Size([384])\n",
      "torch.Size([128, 1024, 1, 1])\n",
      "torch.Size([128])\n",
      "torch.Size([256, 1024, 1, 1])\n",
      "torch.Size([256])\n",
      "torch.Size([256, 256, 1, 7])\n",
      "torch.Size([256])\n",
      "torch.Size([320, 256, 7, 1])\n",
      "torch.Size([320])\n",
      "torch.Size([320, 320, 3, 3])\n",
      "torch.Size([320])\n",
      "torch.Size([192, 1024, 1, 1])\n",
      "torch.Size([192])\n",
      "torch.Size([192, 192, 3, 3])\n",
      "torch.Size([192])\n",
      "torch.Size([384, 1536, 1, 1])\n",
      "torch.Size([384])\n",
      "torch.Size([448, 384, 1, 3])\n",
      "torch.Size([448])\n",
      "torch.Size([512, 448, 3, 1])\n",
      "torch.Size([512])\n",
      "torch.Size([256, 512, 1, 3])\n",
      "torch.Size([256])\n",
      "torch.Size([256, 512, 3, 1])\n",
      "torch.Size([256])\n",
      "torch.Size([384, 1536, 1, 1])\n",
      "torch.Size([384])\n",
      "torch.Size([256, 384, 3, 1])\n",
      "torch.Size([256])\n",
      "torch.Size([256, 384, 1, 3])\n",
      "torch.Size([256])\n",
      "torch.Size([256, 1536, 1, 1])\n",
      "torch.Size([256])\n",
      "torch.Size([256, 1536, 1, 1])\n",
      "torch.Size([256])\n",
      "torch.Size([10, 1536])\n",
      "torch.Size([10])\n"
     ]
    }
   ],
   "source": [
    "class Inceptionv4(nn.Module):\n",
    "    def __init__(self):\n",
    "        super(Inceptionv4,self).__init__()\n",
    "        \n",
    "        self.a1 = stem1()\n",
    "        self.a2 = stem2()\n",
    "        self.a3 = stem3()\n",
    "        self.a4 = InceptionA()\n",
    "        self.a5 = ReductionA()\n",
    "        self.a6 = InceptionB()\n",
    "        self.a7 = ReductionB()\n",
    "        self.a8 = InceptionC()\n",
    "        self.a9 = nn.AvgPool2d(8)\n",
    "        self.a10 = nn.Linear(1536, 10)\n",
    "        \n",
    "    def forward(self,x):\n",
    "        out = self.a1(x)\n",
    "        out = self.a2(out)\n",
    "        out = self.a3(out)\n",
    "        out = self.a4(out)\n",
    "        out = self.a5(out)\n",
    "        out = self.a6(out)\n",
    "        out = self.a7(out)\n",
    "        out = self.a8(out)\n",
    "        out = self.a9(out)\n",
    "        out = out.view(out.size(0), -1)\n",
    "        out = self.a10(out)\n",
    "        return out\n",
    "    \n",
    "device = torch.device(\"cuda:0\" if torch.cuda.is_available() else \"cpu\")\n",
    "\n",
    "\n",
    "net = Inceptionv4()\n",
    "net = net.to(device)\n",
    "param = list(net.parameters())\n",
    "print(len(param))\n",
    "for i in param:\n",
    "    print(i.shape)        "
   ]
  },
  {
   "cell_type": "markdown",
   "metadata": {},
   "source": [
    "데이터셋 로드"
   ]
  },
  {
   "cell_type": "code",
   "execution_count": 11,
   "metadata": {},
   "outputs": [],
   "source": [
    "transform = transforms.Compose(\n",
    "    [transforms.Resize(299),\n",
    "    transforms.ToTensor(),\n",
    "    transforms.Normalize((0.5, 0.5, 0.5), (0.5, 0.5, 0.5))])"
   ]
  },
  {
   "cell_type": "code",
   "execution_count": 12,
   "metadata": {},
   "outputs": [
    {
     "name": "stdout",
     "output_type": "stream",
     "text": [
      "Files already downloaded and verified\n"
     ]
    }
   ],
   "source": [
    "trainset = torchvision.datasets.CIFAR10(root='./data', train=True, download=True,transform=transform)"
   ]
  },
  {
   "cell_type": "code",
   "execution_count": 13,
   "metadata": {},
   "outputs": [],
   "source": [
    "trainloader = torch.utils.data.DataLoader(trainset, batch_size=1, shuffle=True, num_workers=2)"
   ]
  },
  {
   "cell_type": "code",
   "execution_count": 14,
   "metadata": {},
   "outputs": [
    {
     "name": "stdout",
     "output_type": "stream",
     "text": [
      "Files already downloaded and verified\n"
     ]
    }
   ],
   "source": [
    "testset = torchvision.datasets.CIFAR10(root='./data', train=False, download=True, transform=transform)"
   ]
  },
  {
   "cell_type": "code",
   "execution_count": 15,
   "metadata": {},
   "outputs": [],
   "source": [
    "testloader = torch.utils.data.DataLoader(testset,batch_size=64, shuffle=False, num_workers=2)"
   ]
  },
  {
   "cell_type": "code",
   "execution_count": 16,
   "metadata": {},
   "outputs": [],
   "source": [
    "classes = ('plane', 'car', 'bird', 'cat', 'deer', 'dog', 'frog', 'horse', 'ship', 'truck')"
   ]
  },
  {
   "cell_type": "markdown",
   "metadata": {},
   "source": [
    "손실함수 정의"
   ]
  },
  {
   "cell_type": "code",
   "execution_count": 17,
   "metadata": {},
   "outputs": [],
   "source": [
    "import torch.optim as optim\n",
    "\n",
    "criterion = nn.CrossEntropyLoss().cuda()\n",
    "optimizer = optim.Adam(net.parameters(), lr=0.0001)"
   ]
  },
  {
   "cell_type": "markdown",
   "metadata": {},
   "source": [
    "학습하기"
   ]
  },
  {
   "cell_type": "code",
   "execution_count": 53,
   "metadata": {},
   "outputs": [
    {
     "name": "stdout",
     "output_type": "stream",
     "text": [
      "Finished Traing\n"
     ]
    }
   ],
   "source": [
    "for epoch in range(5):\n",
    "    running_loss = 0.0\n",
    "    for i, data in enumerate(trainloader, 0):\n",
    "        inputs, labels = data\n",
    "        inputs, labels = inputs.to(device), labels.to(device)\n",
    "        optimizer.zero_grad()\n",
    "        \n",
    "        \n",
    "        outputs = net(inputs)\n",
    "        break\n",
    "        loss = criterion(outputs, labels)\n",
    "        loss.backward()\n",
    "        optimizer.step()\n",
    "        \n",
    "        running_loss += loss.item()\n",
    "        if i % 100 == 99:\n",
    "            print('[%d, %5d] loss: %.3f' % (epoch +1, i + 1, running_loss / 100))\n",
    "            running_loss = 0.0\n",
    "            \n",
    "print('Finished Traing')"
   ]
  },
  {
   "cell_type": "code",
   "execution_count": null,
   "metadata": {},
   "outputs": [],
   "source": []
  },
  {
   "cell_type": "code",
   "execution_count": null,
   "metadata": {},
   "outputs": [],
   "source": []
  }
 ],
 "metadata": {
  "kernelspec": {
   "display_name": "tensorflow-gpu",
   "language": "python",
   "name": "tensorflow-gpu"
  },
  "language_info": {
   "codemirror_mode": {
    "name": "ipython",
    "version": 3
   },
   "file_extension": ".py",
   "mimetype": "text/x-python",
   "name": "python",
   "nbconvert_exporter": "python",
   "pygments_lexer": "ipython3",
   "version": "3.5.2"
  }
 },
 "nbformat": 4,
 "nbformat_minor": 2
}
